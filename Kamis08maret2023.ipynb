{
  "nbformat": 4,
  "nbformat_minor": 0,
  "metadata": {
    "colab": {
      "provenance": [],
      "authorship_tag": "ABX9TyO5O85gl1uKbpUxatPzepKo",
      "include_colab_link": true
    },
    "kernelspec": {
      "name": "python3",
      "display_name": "Python 3"
    },
    "language_info": {
      "name": "python"
    }
  },
  "cells": [
    {
      "cell_type": "markdown",
      "metadata": {
        "id": "view-in-github",
        "colab_type": "text"
      },
      "source": [
        "<a href=\"https://colab.research.google.com/github/yuliana-ulm/Study-Independent/blob/main/Kamis08maret2023.ipynb\" target=\"_parent\"><img src=\"https://colab.research.google.com/assets/colab-badge.svg\" alt=\"Open In Colab\"/></a>"
      ]
    },
    {
      "cell_type": "code",
      "execution_count": 2,
      "metadata": {
        "colab": {
          "base_uri": "https://localhost:8080/"
        },
        "id": "R6i4S1UdYZtE",
        "outputId": "25c293b7-bcc1-4191-8a3c-fdc27e01a0e9"
      },
      "outputs": [
        {
          "output_type": "stream",
          "name": "stdout",
          "text": [
            "3\n"
          ]
        }
      ],
      "source": [
        "import numpy as np\n",
        "a = np.array([1,2,3,4])\n",
        "print(a[2])\n"
      ]
    },
    {
      "cell_type": "code",
      "source": [
        "import pandas as pd\n",
        "a = pd.Series([5,6,7,4],index=['a','b','c','d'])\n",
        "print(a)"
      ],
      "metadata": {
        "colab": {
          "base_uri": "https://localhost:8080/"
        },
        "id": "4QBfpPagZGQk",
        "outputId": "f917a655-3da8-4735-e87d-8f5841d46eef"
      },
      "execution_count": 9,
      "outputs": [
        {
          "output_type": "stream",
          "name": "stdout",
          "text": [
            "a    5\n",
            "b    6\n",
            "c    7\n",
            "d    4\n",
            "dtype: int64\n"
          ]
        }
      ]
    },
    {
      "cell_type": "code",
      "source": [
        "import pandas as ketek\n",
        "nilai = ketek.DataFrame([[1,'Putri','A'],[2,'Yuliana','A'],[3,'A','A']],index=[1,2,3],columns=['No','Nama','Nilai'])\n",
        "print(nilai)"
      ],
      "metadata": {
        "id": "tjaHvya-aYYn",
        "outputId": "f71e2738-9247-42fe-aa42-f29c6abd25b0",
        "colab": {
          "base_uri": "https://localhost:8080/"
        }
      },
      "execution_count": 19,
      "outputs": [
        {
          "output_type": "stream",
          "name": "stdout",
          "text": [
            "   No     Nama Nilai\n",
            "1   1    Putri     A\n",
            "2   2  Yuliana     A\n",
            "3   3        A     A\n"
          ]
        }
      ]
    },
    {
      "cell_type": "code",
      "source": [
        "import pandas as ketombe\n",
        "data = {\n",
        "    'No' : [1,2,3],\n",
        "    'Nama' : ['Yuliana','tata','haecan'],\n",
        "    'Nilai' : ['A','A','A']\n",
        "    }\n",
        "\n",
        "df = ketombe.DataFrame(data)\n",
        "print(df)"
      ],
      "metadata": {
        "id": "ox8vsjIId74i",
        "outputId": "f1d7b6b9-255d-4df2-a73e-0f2c3cd040b9",
        "colab": {
          "base_uri": "https://localhost:8080/"
        }
      },
      "execution_count": 20,
      "outputs": [
        {
          "output_type": "stream",
          "name": "stdout",
          "text": [
            "   No     Nama Nilai\n",
            "0   1  Yuliana     A\n",
            "1   2     tata     A\n",
            "2   3   haecan     A\n"
          ]
        }
      ]
    }
  ]
}